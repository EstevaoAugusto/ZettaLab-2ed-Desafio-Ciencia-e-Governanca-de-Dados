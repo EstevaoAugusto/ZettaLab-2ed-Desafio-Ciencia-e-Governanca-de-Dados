{
 "cells": [
  {
   "cell_type": "markdown",
   "id": "6ec620ea",
   "metadata": {},
   "source": [
    "# Desafio Ciência e Governança de Dados"
   ]
  },
  {
   "cell_type": "markdown",
   "id": "415736a9",
   "metadata": {},
   "source": [
    "Desenvolvido por Estevão Augusto da Fonseca Santos, Graduando em Ciência de Computação\n",
    "\n",
    "6° Período da Universidade Federal de Lavras"
   ]
  },
  {
   "cell_type": "markdown",
   "id": "fb3ad57d",
   "metadata": {},
   "source": [
    "## Objetivos"
   ]
  },
  {
   "cell_type": "markdown",
   "id": "49cfaaa9",
   "metadata": {},
   "source": [
    "\"Como poderíamos avaliar e prever/visualizar os agentes/fenômenos que mais causam impactos socioeconômicos no Brasil?\". Essa é a pergunta proposta pelo desafio. Para respondê-la, será preciso adquirir, organizar, explorar e visualizar os dados\n",
    "necessários para criar uma resposta à ele."
   ]
  },
  {
   "cell_type": "code",
   "execution_count": 75,
   "id": "03cb7a63",
   "metadata": {},
   "outputs": [],
   "source": [
    "import pandas as pd\n",
    "import numpy as np\n",
    "import basedosdados as bd\n",
    "import os\n",
    "from dotenv import load_dotenv "
   ]
  },
  {
   "cell_type": "code",
   "execution_count": 76,
   "id": "90a76228",
   "metadata": {},
   "outputs": [],
   "source": [
    "load_dotenv() \n",
    "GOOGLE_CLOUD_ID_PROJECT = os.getenv(\"GOOGLE_CLOUD_PROJECT\")"
   ]
  },
  {
   "cell_type": "markdown",
   "id": "6a7fb00c",
   "metadata": {},
   "source": [
    "## Obtençao de Dados"
   ]
  },
  {
   "cell_type": "markdown",
   "id": "78cac957",
   "metadata": {},
   "source": [
    "### População Brasileira"
   ]
  },
  {
   "cell_type": "code",
   "execution_count": null,
   "id": "a5cf3368",
   "metadata": {},
   "outputs": [
    {
     "name": "stdout",
     "output_type": "stream",
     "text": [
      "Downloading: 100%|\u001b[32m██████████\u001b[0m|\n"
     ]
    }
   ],
   "source": [
    "query = \"\"\"\n",
    "  SELECT\n",
    "    dados.ano as ano,\n",
    "    dados.id_municipio AS id_municipio,\n",
    "    diretorio_id_municipio.nome AS id_municipio_nome,\n",
    "    dados.sexo as sexo,\n",
    "    dados.grupo_idade as grupo_idade,\n",
    "    dados.populacao as populacao\n",
    "FROM `basedosdados.br_ms_populacao.municipio` AS dados\n",
    "LEFT JOIN (SELECT DISTINCT id_municipio,nome  FROM `basedosdados.br_bd_diretorios_brasil.municipio`) AS diretorio_id_municipio\n",
    "    ON dados.id_municipio = diretorio_id_municipio.id_municipio\n",
    "\"\"\"\n",
    "\n",
    "df = bd.read_sql(query = query, billing_project_id = GOOGLE_CLOUD_ID_PROJECT)\n",
    "df.to_csv(\"./csv/populacao_brasileira.csv\")"
   ]
  },
  {
   "cell_type": "code",
   "execution_count": 70,
   "id": "e7e1c51b",
   "metadata": {},
   "outputs": [
    {
     "data": {
      "application/vnd.microsoft.datawrangler.viewer.v0+json": {
       "columns": [
        {
         "name": "index",
         "rawType": "int64",
         "type": "integer"
        },
        {
         "name": "ano",
         "rawType": "Int64",
         "type": "integer"
        },
        {
         "name": "id_municipio",
         "rawType": "object",
         "type": "string"
        },
        {
         "name": "id_municipio_nome",
         "rawType": "object",
         "type": "string"
        },
        {
         "name": "sexo",
         "rawType": "object",
         "type": "string"
        },
        {
         "name": "grupo_idade",
         "rawType": "object",
         "type": "string"
        },
        {
         "name": "populacao",
         "rawType": "Int64",
         "type": "integer"
        }
       ],
       "ref": "12e037e6-9750-4835-8c82-51a1918569eb",
       "rows": [
        [
         "0",
         "2000",
         "1100015",
         "Alta Floresta D'Oeste",
         "feminino",
         "0-4 anos",
         "1441"
        ],
        [
         "1",
         "2000",
         "1100015",
         "Alta Floresta D'Oeste",
         "masculino",
         "0-4 anos",
         "1543"
        ],
        [
         "2",
         "2000",
         "1100023",
         "Ariquemes",
         "feminino",
         "0-4 anos",
         "4394"
        ],
        [
         "3",
         "2000",
         "1100023",
         "Ariquemes",
         "masculino",
         "0-4 anos",
         "4644"
        ],
        [
         "4",
         "2000",
         "1100031",
         "Cabixi",
         "feminino",
         "0-4 anos",
         "398"
        ],
        [
         "5",
         "2000",
         "1100031",
         "Cabixi",
         "masculino",
         "0-4 anos",
         "387"
        ],
        [
         "6",
         "2000",
         "1100049",
         "Cacoal",
         "feminino",
         "0-4 anos",
         "3864"
        ],
        [
         "7",
         "2000",
         "1100049",
         "Cacoal",
         "masculino",
         "0-4 anos",
         "4027"
        ],
        [
         "8",
         "2000",
         "1100056",
         "Cerejeiras",
         "feminino",
         "0-4 anos",
         "894"
        ],
        [
         "9",
         "2000",
         "1100056",
         "Cerejeiras",
         "masculino",
         "0-4 anos",
         "942"
        ]
       ],
       "shape": {
        "columns": 6,
        "rows": 10
       }
      },
      "text/html": [
       "<div>\n",
       "<style scoped>\n",
       "    .dataframe tbody tr th:only-of-type {\n",
       "        vertical-align: middle;\n",
       "    }\n",
       "\n",
       "    .dataframe tbody tr th {\n",
       "        vertical-align: top;\n",
       "    }\n",
       "\n",
       "    .dataframe thead th {\n",
       "        text-align: right;\n",
       "    }\n",
       "</style>\n",
       "<table border=\"1\" class=\"dataframe\">\n",
       "  <thead>\n",
       "    <tr style=\"text-align: right;\">\n",
       "      <th></th>\n",
       "      <th>ano</th>\n",
       "      <th>id_municipio</th>\n",
       "      <th>id_municipio_nome</th>\n",
       "      <th>sexo</th>\n",
       "      <th>grupo_idade</th>\n",
       "      <th>populacao</th>\n",
       "    </tr>\n",
       "  </thead>\n",
       "  <tbody>\n",
       "    <tr>\n",
       "      <th>0</th>\n",
       "      <td>2000</td>\n",
       "      <td>1100015</td>\n",
       "      <td>Alta Floresta D'Oeste</td>\n",
       "      <td>feminino</td>\n",
       "      <td>0-4 anos</td>\n",
       "      <td>1441</td>\n",
       "    </tr>\n",
       "    <tr>\n",
       "      <th>1</th>\n",
       "      <td>2000</td>\n",
       "      <td>1100015</td>\n",
       "      <td>Alta Floresta D'Oeste</td>\n",
       "      <td>masculino</td>\n",
       "      <td>0-4 anos</td>\n",
       "      <td>1543</td>\n",
       "    </tr>\n",
       "    <tr>\n",
       "      <th>2</th>\n",
       "      <td>2000</td>\n",
       "      <td>1100023</td>\n",
       "      <td>Ariquemes</td>\n",
       "      <td>feminino</td>\n",
       "      <td>0-4 anos</td>\n",
       "      <td>4394</td>\n",
       "    </tr>\n",
       "    <tr>\n",
       "      <th>3</th>\n",
       "      <td>2000</td>\n",
       "      <td>1100023</td>\n",
       "      <td>Ariquemes</td>\n",
       "      <td>masculino</td>\n",
       "      <td>0-4 anos</td>\n",
       "      <td>4644</td>\n",
       "    </tr>\n",
       "    <tr>\n",
       "      <th>4</th>\n",
       "      <td>2000</td>\n",
       "      <td>1100031</td>\n",
       "      <td>Cabixi</td>\n",
       "      <td>feminino</td>\n",
       "      <td>0-4 anos</td>\n",
       "      <td>398</td>\n",
       "    </tr>\n",
       "    <tr>\n",
       "      <th>5</th>\n",
       "      <td>2000</td>\n",
       "      <td>1100031</td>\n",
       "      <td>Cabixi</td>\n",
       "      <td>masculino</td>\n",
       "      <td>0-4 anos</td>\n",
       "      <td>387</td>\n",
       "    </tr>\n",
       "    <tr>\n",
       "      <th>6</th>\n",
       "      <td>2000</td>\n",
       "      <td>1100049</td>\n",
       "      <td>Cacoal</td>\n",
       "      <td>feminino</td>\n",
       "      <td>0-4 anos</td>\n",
       "      <td>3864</td>\n",
       "    </tr>\n",
       "    <tr>\n",
       "      <th>7</th>\n",
       "      <td>2000</td>\n",
       "      <td>1100049</td>\n",
       "      <td>Cacoal</td>\n",
       "      <td>masculino</td>\n",
       "      <td>0-4 anos</td>\n",
       "      <td>4027</td>\n",
       "    </tr>\n",
       "    <tr>\n",
       "      <th>8</th>\n",
       "      <td>2000</td>\n",
       "      <td>1100056</td>\n",
       "      <td>Cerejeiras</td>\n",
       "      <td>feminino</td>\n",
       "      <td>0-4 anos</td>\n",
       "      <td>894</td>\n",
       "    </tr>\n",
       "    <tr>\n",
       "      <th>9</th>\n",
       "      <td>2000</td>\n",
       "      <td>1100056</td>\n",
       "      <td>Cerejeiras</td>\n",
       "      <td>masculino</td>\n",
       "      <td>0-4 anos</td>\n",
       "      <td>942</td>\n",
       "    </tr>\n",
       "  </tbody>\n",
       "</table>\n",
       "</div>"
      ],
      "text/plain": [
       "    ano id_municipio      id_municipio_nome       sexo grupo_idade  populacao\n",
       "0  2000      1100015  Alta Floresta D'Oeste   feminino    0-4 anos       1441\n",
       "1  2000      1100015  Alta Floresta D'Oeste  masculino    0-4 anos       1543\n",
       "2  2000      1100023              Ariquemes   feminino    0-4 anos       4394\n",
       "3  2000      1100023              Ariquemes  masculino    0-4 anos       4644\n",
       "4  2000      1100031                 Cabixi   feminino    0-4 anos        398\n",
       "5  2000      1100031                 Cabixi  masculino    0-4 anos        387\n",
       "6  2000      1100049                 Cacoal   feminino    0-4 anos       3864\n",
       "7  2000      1100049                 Cacoal  masculino    0-4 anos       4027\n",
       "8  2000      1100056             Cerejeiras   feminino    0-4 anos        894\n",
       "9  2000      1100056             Cerejeiras  masculino    0-4 anos        942"
      ]
     },
     "execution_count": 70,
     "metadata": {},
     "output_type": "execute_result"
    }
   ],
   "source": [
    "df.head(10)"
   ]
  },
  {
   "cell_type": "markdown",
   "id": "e15ac95c",
   "metadata": {},
   "source": [
    "### Produto Interno Bruto (PIB) Por Municipio"
   ]
  },
  {
   "cell_type": "code",
   "execution_count": 71,
   "id": "045e6580",
   "metadata": {},
   "outputs": [
    {
     "name": "stdout",
     "output_type": "stream",
     "text": [
      "Downloading: 100%|\u001b[32m██████████\u001b[0m|\n"
     ]
    }
   ],
   "source": [
    "query = \"\"\"\n",
    "  SELECT\n",
    "    dados.id_municipio AS id_municipio,\n",
    "    diretorio_id_municipio.nome AS id_municipio_nome,\n",
    "    dados.ano as ano,\n",
    "    dados.pib as pib,\n",
    "    dados.impostos_liquidos as impostos_liquidos,\n",
    "    dados.va as va,\n",
    "    dados.va_agropecuaria as va_agropecuaria,\n",
    "    dados.va_industria as va_industria,\n",
    "    dados.va_servicos as va_servicos,\n",
    "    dados.va_adespss as va_adespss\n",
    "FROM `basedosdados.br_ibge_pib.municipio` AS dados\n",
    "LEFT JOIN (SELECT DISTINCT id_municipio,nome  FROM `basedosdados.br_bd_diretorios_brasil.municipio`) AS diretorio_id_municipio\n",
    "    ON dados.id_municipio = diretorio_id_municipio.id_municipio\n",
    "\"\"\"\n",
    "\n",
    "df = bd.read_sql(query = query, billing_project_id = GOOGLE_CLOUD_ID_PROJECT)\n",
    "df.to_csv(\"./csv/pip_por_municipio.csv\")"
   ]
  },
  {
   "cell_type": "code",
   "execution_count": 72,
   "id": "63395938",
   "metadata": {},
   "outputs": [
    {
     "data": {
      "application/vnd.microsoft.datawrangler.viewer.v0+json": {
       "columns": [
        {
         "name": "index",
         "rawType": "int64",
         "type": "integer"
        },
        {
         "name": "id_municipio",
         "rawType": "object",
         "type": "string"
        },
        {
         "name": "id_municipio_nome",
         "rawType": "object",
         "type": "string"
        },
        {
         "name": "ano",
         "rawType": "Int64",
         "type": "integer"
        },
        {
         "name": "pib",
         "rawType": "Int64",
         "type": "integer"
        },
        {
         "name": "impostos_liquidos",
         "rawType": "Int64",
         "type": "integer"
        },
        {
         "name": "va",
         "rawType": "Int64",
         "type": "integer"
        },
        {
         "name": "va_agropecuaria",
         "rawType": "Int64",
         "type": "integer"
        },
        {
         "name": "va_industria",
         "rawType": "Int64",
         "type": "integer"
        },
        {
         "name": "va_servicos",
         "rawType": "Int64",
         "type": "integer"
        },
        {
         "name": "va_adespss",
         "rawType": "Int64",
         "type": "integer"
        }
       ],
       "ref": "3f87d020-4862-4c19-bac5-0aaec0e59a26",
       "rows": [
        [
         "0",
         "1100346",
         "Alvorada D'Oeste",
         "2002",
         "66869000",
         "3643000",
         "63226000",
         "15054000",
         "3940000",
         "13954000",
         "30277000"
        ],
        [
         "1",
         "1101500",
         "Seringueiras",
         "2002",
         "39708000",
         "2199000",
         "37509000",
         "7964000",
         "3537000",
         "6140000",
         "19868000"
        ],
        [
         "2",
         "1502954",
         "Eldorado do Carajás",
         "2002",
         "55842000",
         "2219000",
         "53623000",
         "9823000",
         "5439000",
         "11420000",
         "26941000"
        ],
        [
         "3",
         "1505635",
         "Piçarra",
         "2002",
         "52055000",
         "1346000",
         "50709000",
         "30760000",
         "4634000",
         "5513000",
         "9801000"
        ],
        [
         "4",
         "1506401",
         "Santa Cruz do Arari",
         "2002",
         "14456000",
         "264000",
         "14191000",
         "7541000",
         "698000",
         "1473000",
         "4480000"
        ],
        [
         "5",
         "1703826",
         "Cachoeirinha",
         "2002",
         "4494000",
         "142000",
         "4352000",
         "628000",
         "241000",
         "893000",
         "2590000"
        ],
        [
         "6",
         "1709302",
         "Guaraí",
         "2002",
         "79277000",
         "7604000",
         "71673000",
         "5509000",
         "8452000",
         "35921000",
         "21790000"
        ],
        [
         "7",
         "1713205",
         "Miracema do Tocantins",
         "2002",
         "227431000",
         "9628000",
         "217803000",
         "7583000",
         "150772000",
         "34035000",
         "25413000"
        ],
        [
         "8",
         "1715754",
         "Palmeirópolis",
         "2002",
         "23336000",
         "1876000",
         "21461000",
         "3892000",
         "2670000",
         "7953000",
         "6946000"
        ],
        [
         "9",
         "1716109",
         "Paraíso do Tocantins",
         "2002",
         "187686000",
         "28461000",
         "159225000",
         "4951000",
         "20762000",
         "96460000",
         "37053000"
        ]
       ],
       "shape": {
        "columns": 10,
        "rows": 10
       }
      },
      "text/html": [
       "<div>\n",
       "<style scoped>\n",
       "    .dataframe tbody tr th:only-of-type {\n",
       "        vertical-align: middle;\n",
       "    }\n",
       "\n",
       "    .dataframe tbody tr th {\n",
       "        vertical-align: top;\n",
       "    }\n",
       "\n",
       "    .dataframe thead th {\n",
       "        text-align: right;\n",
       "    }\n",
       "</style>\n",
       "<table border=\"1\" class=\"dataframe\">\n",
       "  <thead>\n",
       "    <tr style=\"text-align: right;\">\n",
       "      <th></th>\n",
       "      <th>id_municipio</th>\n",
       "      <th>id_municipio_nome</th>\n",
       "      <th>ano</th>\n",
       "      <th>pib</th>\n",
       "      <th>impostos_liquidos</th>\n",
       "      <th>va</th>\n",
       "      <th>va_agropecuaria</th>\n",
       "      <th>va_industria</th>\n",
       "      <th>va_servicos</th>\n",
       "      <th>va_adespss</th>\n",
       "    </tr>\n",
       "  </thead>\n",
       "  <tbody>\n",
       "    <tr>\n",
       "      <th>0</th>\n",
       "      <td>1100346</td>\n",
       "      <td>Alvorada D'Oeste</td>\n",
       "      <td>2002</td>\n",
       "      <td>66869000</td>\n",
       "      <td>3643000</td>\n",
       "      <td>63226000</td>\n",
       "      <td>15054000</td>\n",
       "      <td>3940000</td>\n",
       "      <td>13954000</td>\n",
       "      <td>30277000</td>\n",
       "    </tr>\n",
       "    <tr>\n",
       "      <th>1</th>\n",
       "      <td>1101500</td>\n",
       "      <td>Seringueiras</td>\n",
       "      <td>2002</td>\n",
       "      <td>39708000</td>\n",
       "      <td>2199000</td>\n",
       "      <td>37509000</td>\n",
       "      <td>7964000</td>\n",
       "      <td>3537000</td>\n",
       "      <td>6140000</td>\n",
       "      <td>19868000</td>\n",
       "    </tr>\n",
       "    <tr>\n",
       "      <th>2</th>\n",
       "      <td>1502954</td>\n",
       "      <td>Eldorado do Carajás</td>\n",
       "      <td>2002</td>\n",
       "      <td>55842000</td>\n",
       "      <td>2219000</td>\n",
       "      <td>53623000</td>\n",
       "      <td>9823000</td>\n",
       "      <td>5439000</td>\n",
       "      <td>11420000</td>\n",
       "      <td>26941000</td>\n",
       "    </tr>\n",
       "    <tr>\n",
       "      <th>3</th>\n",
       "      <td>1505635</td>\n",
       "      <td>Piçarra</td>\n",
       "      <td>2002</td>\n",
       "      <td>52055000</td>\n",
       "      <td>1346000</td>\n",
       "      <td>50709000</td>\n",
       "      <td>30760000</td>\n",
       "      <td>4634000</td>\n",
       "      <td>5513000</td>\n",
       "      <td>9801000</td>\n",
       "    </tr>\n",
       "    <tr>\n",
       "      <th>4</th>\n",
       "      <td>1506401</td>\n",
       "      <td>Santa Cruz do Arari</td>\n",
       "      <td>2002</td>\n",
       "      <td>14456000</td>\n",
       "      <td>264000</td>\n",
       "      <td>14191000</td>\n",
       "      <td>7541000</td>\n",
       "      <td>698000</td>\n",
       "      <td>1473000</td>\n",
       "      <td>4480000</td>\n",
       "    </tr>\n",
       "    <tr>\n",
       "      <th>5</th>\n",
       "      <td>1703826</td>\n",
       "      <td>Cachoeirinha</td>\n",
       "      <td>2002</td>\n",
       "      <td>4494000</td>\n",
       "      <td>142000</td>\n",
       "      <td>4352000</td>\n",
       "      <td>628000</td>\n",
       "      <td>241000</td>\n",
       "      <td>893000</td>\n",
       "      <td>2590000</td>\n",
       "    </tr>\n",
       "    <tr>\n",
       "      <th>6</th>\n",
       "      <td>1709302</td>\n",
       "      <td>Guaraí</td>\n",
       "      <td>2002</td>\n",
       "      <td>79277000</td>\n",
       "      <td>7604000</td>\n",
       "      <td>71673000</td>\n",
       "      <td>5509000</td>\n",
       "      <td>8452000</td>\n",
       "      <td>35921000</td>\n",
       "      <td>21790000</td>\n",
       "    </tr>\n",
       "    <tr>\n",
       "      <th>7</th>\n",
       "      <td>1713205</td>\n",
       "      <td>Miracema do Tocantins</td>\n",
       "      <td>2002</td>\n",
       "      <td>227431000</td>\n",
       "      <td>9628000</td>\n",
       "      <td>217803000</td>\n",
       "      <td>7583000</td>\n",
       "      <td>150772000</td>\n",
       "      <td>34035000</td>\n",
       "      <td>25413000</td>\n",
       "    </tr>\n",
       "    <tr>\n",
       "      <th>8</th>\n",
       "      <td>1715754</td>\n",
       "      <td>Palmeirópolis</td>\n",
       "      <td>2002</td>\n",
       "      <td>23336000</td>\n",
       "      <td>1876000</td>\n",
       "      <td>21461000</td>\n",
       "      <td>3892000</td>\n",
       "      <td>2670000</td>\n",
       "      <td>7953000</td>\n",
       "      <td>6946000</td>\n",
       "    </tr>\n",
       "    <tr>\n",
       "      <th>9</th>\n",
       "      <td>1716109</td>\n",
       "      <td>Paraíso do Tocantins</td>\n",
       "      <td>2002</td>\n",
       "      <td>187686000</td>\n",
       "      <td>28461000</td>\n",
       "      <td>159225000</td>\n",
       "      <td>4951000</td>\n",
       "      <td>20762000</td>\n",
       "      <td>96460000</td>\n",
       "      <td>37053000</td>\n",
       "    </tr>\n",
       "  </tbody>\n",
       "</table>\n",
       "</div>"
      ],
      "text/plain": [
       "  id_municipio      id_municipio_nome   ano        pib  impostos_liquidos  \\\n",
       "0      1100346       Alvorada D'Oeste  2002   66869000            3643000   \n",
       "1      1101500           Seringueiras  2002   39708000            2199000   \n",
       "2      1502954    Eldorado do Carajás  2002   55842000            2219000   \n",
       "3      1505635                Piçarra  2002   52055000            1346000   \n",
       "4      1506401    Santa Cruz do Arari  2002   14456000             264000   \n",
       "5      1703826           Cachoeirinha  2002    4494000             142000   \n",
       "6      1709302                 Guaraí  2002   79277000            7604000   \n",
       "7      1713205  Miracema do Tocantins  2002  227431000            9628000   \n",
       "8      1715754          Palmeirópolis  2002   23336000            1876000   \n",
       "9      1716109   Paraíso do Tocantins  2002  187686000           28461000   \n",
       "\n",
       "          va  va_agropecuaria  va_industria  va_servicos  va_adespss  \n",
       "0   63226000         15054000       3940000     13954000    30277000  \n",
       "1   37509000          7964000       3537000      6140000    19868000  \n",
       "2   53623000          9823000       5439000     11420000    26941000  \n",
       "3   50709000         30760000       4634000      5513000     9801000  \n",
       "4   14191000          7541000        698000      1473000     4480000  \n",
       "5    4352000           628000        241000       893000     2590000  \n",
       "6   71673000          5509000       8452000     35921000    21790000  \n",
       "7  217803000          7583000     150772000     34035000    25413000  \n",
       "8   21461000          3892000       2670000      7953000     6946000  \n",
       "9  159225000          4951000      20762000     96460000    37053000  "
      ]
     },
     "execution_count": 72,
     "metadata": {},
     "output_type": "execute_result"
    }
   ],
   "source": [
    "df.head(10)"
   ]
  },
  {
   "cell_type": "markdown",
   "id": "7a8c6db0",
   "metadata": {},
   "source": [
    "### Produto Interno Bruto (PIB) Por UF"
   ]
  },
  {
   "cell_type": "code",
   "execution_count": 73,
   "id": "ed8aa39d",
   "metadata": {},
   "outputs": [
    {
     "name": "stdout",
     "output_type": "stream",
     "text": [
      "Downloading: 100%|\u001b[32m██████████\u001b[0m|\n"
     ]
    }
   ],
   "source": [
    "query = \"\"\"\n",
    "  SELECT\n",
    "    dados.ano as ano,\n",
    "    dados.id_uf AS id_uf,\n",
    "    diretorio_id_uf.sigla AS id_uf_sigla,\n",
    "    diretorio_id_uf.nome AS id_uf_nome,\n",
    "    dados.sigla_uf AS sigla_uf,\n",
    "    diretorio_sigla_uf.nome AS sigla_uf_nome,\n",
    "    dados.pib as pib,\n",
    "    dados.impostos_liquidos as impostos_liquidos,\n",
    "    dados.va as va,\n",
    "    dados.va_agropecuaria as va_agropecuaria,\n",
    "    dados.va_industria as va_industria,\n",
    "    dados.va_servicos as va_servicos,\n",
    "    dados.va_adespss as va_adespss\n",
    "FROM `basedosdados.br_ibge_pib.uf` AS dados\n",
    "LEFT JOIN (SELECT DISTINCT id_uf,sigla,nome  FROM `basedosdados.br_bd_diretorios_brasil.uf`) AS diretorio_id_uf\n",
    "    ON dados.id_uf = diretorio_id_uf.id_uf\n",
    "LEFT JOIN (SELECT DISTINCT sigla,nome  FROM `basedosdados.br_bd_diretorios_brasil.uf`) AS diretorio_sigla_uf\n",
    "    ON dados.sigla_uf = diretorio_sigla_uf.sigla\n",
    "\"\"\"\n",
    "\n",
    "df = bd.read_sql(query = query, billing_project_id = GOOGLE_CLOUD_ID_PROJECT)\n",
    "df.to_csv(\"./csv/pip_por_uf.csv\")"
   ]
  },
  {
   "cell_type": "code",
   "execution_count": 74,
   "id": "bc55c5d7",
   "metadata": {},
   "outputs": [
    {
     "data": {
      "application/vnd.microsoft.datawrangler.viewer.v0+json": {
       "columns": [
        {
         "name": "index",
         "rawType": "int64",
         "type": "integer"
        },
        {
         "name": "ano",
         "rawType": "Int64",
         "type": "integer"
        },
        {
         "name": "id_uf",
         "rawType": "object",
         "type": "string"
        },
        {
         "name": "id_uf_sigla",
         "rawType": "object",
         "type": "string"
        },
        {
         "name": "id_uf_nome",
         "rawType": "object",
         "type": "string"
        },
        {
         "name": "sigla_uf",
         "rawType": "object",
         "type": "string"
        },
        {
         "name": "sigla_uf_nome",
         "rawType": "object",
         "type": "string"
        },
        {
         "name": "pib",
         "rawType": "Int64",
         "type": "integer"
        },
        {
         "name": "impostos_liquidos",
         "rawType": "Int64",
         "type": "integer"
        },
        {
         "name": "va",
         "rawType": "Int64",
         "type": "integer"
        },
        {
         "name": "va_agropecuaria",
         "rawType": "Int64",
         "type": "integer"
        },
        {
         "name": "va_industria",
         "rawType": "Int64",
         "type": "integer"
        },
        {
         "name": "va_servicos",
         "rawType": "Int64",
         "type": "integer"
        },
        {
         "name": "va_adespss",
         "rawType": "Int64",
         "type": "integer"
        }
       ],
       "ref": "c6391c62-526b-4fc4-8fb7-ce473fc3c8d9",
       "rows": [
        [
         "0",
         "2002",
         "11",
         "RO",
         "Rondônia",
         "RO",
         "Rondônia",
         "7467629886",
         "839731192",
         "6627898698",
         "715526872",
         "1191090432",
         "2484579193",
         "2236702207"
        ],
        [
         "1",
         "2003",
         "11",
         "RO",
         "Rondônia",
         "RO",
         "Rondônia",
         "9425010486",
         "1108434936",
         "8316575548",
         "1278658831",
         "1216605061",
         "3376727040",
         "2444584625"
        ],
        [
         "2",
         "2004",
         "11",
         "RO",
         "Rondônia",
         "RO",
         "Rondônia",
         "11004641436",
         "1288806654",
         "9715834778",
         "1288515348",
         "1674933817",
         "3986529419",
         "2765856199"
        ],
        [
         "3",
         "2005",
         "11",
         "RO",
         "Rondônia",
         "RO",
         "Rondônia",
         "12511821181",
         "1476144194",
         "11035676990",
         "1342222120",
         "1887932121",
         "4603783904",
         "3201738843"
        ],
        [
         "4",
         "2006",
         "11",
         "RO",
         "Rondônia",
         "RO",
         "Rondônia",
         "13054713344",
         "1613809974",
         "11440903374",
         "1238006193",
         "2210692147",
         "4320526746",
         "3671678293"
        ],
        [
         "5",
         "2007",
         "11",
         "RO",
         "Rondônia",
         "RO",
         "Rondônia",
         "14438376499",
         "1766358842",
         "12672017662",
         "1431792087",
         "2200048388",
         "5107622177",
         "3932554997"
        ],
        [
         "6",
         "2008",
         "11",
         "RO",
         "Rondônia",
         "RO",
         "Rondônia",
         "17285541726",
         "2050713346",
         "15234828376",
         "2030130654",
         "2463867818",
         "6179992618",
         "4560837285"
        ],
        [
         "7",
         "2009",
         "11",
         "RO",
         "Rondônia",
         "RO",
         "Rondônia",
         "19725009504",
         "2289825239",
         "17435184264",
         "2116597096",
         "3214988676",
         "6890252624",
         "5213345867"
        ],
        [
         "8",
         "2010",
         "11",
         "RO",
         "Rondônia",
         "RO",
         "Rondônia",
         "23907886882",
         "2950929036",
         "20956957849",
         "2295537137",
         "4779253947",
         "8011723773",
         "5870442984"
        ],
        [
         "9",
         "2011",
         "11",
         "RO",
         "Rondônia",
         "RO",
         "Rondônia",
         "27574714379",
         "3382983866",
         "24191730509",
         "2510828777",
         "5920619024",
         "9255080227",
         "6505202475"
        ]
       ],
       "shape": {
        "columns": 13,
        "rows": 10
       }
      },
      "text/html": [
       "<div>\n",
       "<style scoped>\n",
       "    .dataframe tbody tr th:only-of-type {\n",
       "        vertical-align: middle;\n",
       "    }\n",
       "\n",
       "    .dataframe tbody tr th {\n",
       "        vertical-align: top;\n",
       "    }\n",
       "\n",
       "    .dataframe thead th {\n",
       "        text-align: right;\n",
       "    }\n",
       "</style>\n",
       "<table border=\"1\" class=\"dataframe\">\n",
       "  <thead>\n",
       "    <tr style=\"text-align: right;\">\n",
       "      <th></th>\n",
       "      <th>ano</th>\n",
       "      <th>id_uf</th>\n",
       "      <th>id_uf_sigla</th>\n",
       "      <th>id_uf_nome</th>\n",
       "      <th>sigla_uf</th>\n",
       "      <th>sigla_uf_nome</th>\n",
       "      <th>pib</th>\n",
       "      <th>impostos_liquidos</th>\n",
       "      <th>va</th>\n",
       "      <th>va_agropecuaria</th>\n",
       "      <th>va_industria</th>\n",
       "      <th>va_servicos</th>\n",
       "      <th>va_adespss</th>\n",
       "    </tr>\n",
       "  </thead>\n",
       "  <tbody>\n",
       "    <tr>\n",
       "      <th>0</th>\n",
       "      <td>2002</td>\n",
       "      <td>11</td>\n",
       "      <td>RO</td>\n",
       "      <td>Rondônia</td>\n",
       "      <td>RO</td>\n",
       "      <td>Rondônia</td>\n",
       "      <td>7467629886</td>\n",
       "      <td>839731192</td>\n",
       "      <td>6627898698</td>\n",
       "      <td>715526872</td>\n",
       "      <td>1191090432</td>\n",
       "      <td>2484579193</td>\n",
       "      <td>2236702207</td>\n",
       "    </tr>\n",
       "    <tr>\n",
       "      <th>1</th>\n",
       "      <td>2003</td>\n",
       "      <td>11</td>\n",
       "      <td>RO</td>\n",
       "      <td>Rondônia</td>\n",
       "      <td>RO</td>\n",
       "      <td>Rondônia</td>\n",
       "      <td>9425010486</td>\n",
       "      <td>1108434936</td>\n",
       "      <td>8316575548</td>\n",
       "      <td>1278658831</td>\n",
       "      <td>1216605061</td>\n",
       "      <td>3376727040</td>\n",
       "      <td>2444584625</td>\n",
       "    </tr>\n",
       "    <tr>\n",
       "      <th>2</th>\n",
       "      <td>2004</td>\n",
       "      <td>11</td>\n",
       "      <td>RO</td>\n",
       "      <td>Rondônia</td>\n",
       "      <td>RO</td>\n",
       "      <td>Rondônia</td>\n",
       "      <td>11004641436</td>\n",
       "      <td>1288806654</td>\n",
       "      <td>9715834778</td>\n",
       "      <td>1288515348</td>\n",
       "      <td>1674933817</td>\n",
       "      <td>3986529419</td>\n",
       "      <td>2765856199</td>\n",
       "    </tr>\n",
       "    <tr>\n",
       "      <th>3</th>\n",
       "      <td>2005</td>\n",
       "      <td>11</td>\n",
       "      <td>RO</td>\n",
       "      <td>Rondônia</td>\n",
       "      <td>RO</td>\n",
       "      <td>Rondônia</td>\n",
       "      <td>12511821181</td>\n",
       "      <td>1476144194</td>\n",
       "      <td>11035676990</td>\n",
       "      <td>1342222120</td>\n",
       "      <td>1887932121</td>\n",
       "      <td>4603783904</td>\n",
       "      <td>3201738843</td>\n",
       "    </tr>\n",
       "    <tr>\n",
       "      <th>4</th>\n",
       "      <td>2006</td>\n",
       "      <td>11</td>\n",
       "      <td>RO</td>\n",
       "      <td>Rondônia</td>\n",
       "      <td>RO</td>\n",
       "      <td>Rondônia</td>\n",
       "      <td>13054713344</td>\n",
       "      <td>1613809974</td>\n",
       "      <td>11440903374</td>\n",
       "      <td>1238006193</td>\n",
       "      <td>2210692147</td>\n",
       "      <td>4320526746</td>\n",
       "      <td>3671678293</td>\n",
       "    </tr>\n",
       "    <tr>\n",
       "      <th>5</th>\n",
       "      <td>2007</td>\n",
       "      <td>11</td>\n",
       "      <td>RO</td>\n",
       "      <td>Rondônia</td>\n",
       "      <td>RO</td>\n",
       "      <td>Rondônia</td>\n",
       "      <td>14438376499</td>\n",
       "      <td>1766358842</td>\n",
       "      <td>12672017662</td>\n",
       "      <td>1431792087</td>\n",
       "      <td>2200048388</td>\n",
       "      <td>5107622177</td>\n",
       "      <td>3932554997</td>\n",
       "    </tr>\n",
       "    <tr>\n",
       "      <th>6</th>\n",
       "      <td>2008</td>\n",
       "      <td>11</td>\n",
       "      <td>RO</td>\n",
       "      <td>Rondônia</td>\n",
       "      <td>RO</td>\n",
       "      <td>Rondônia</td>\n",
       "      <td>17285541726</td>\n",
       "      <td>2050713346</td>\n",
       "      <td>15234828376</td>\n",
       "      <td>2030130654</td>\n",
       "      <td>2463867818</td>\n",
       "      <td>6179992618</td>\n",
       "      <td>4560837285</td>\n",
       "    </tr>\n",
       "    <tr>\n",
       "      <th>7</th>\n",
       "      <td>2009</td>\n",
       "      <td>11</td>\n",
       "      <td>RO</td>\n",
       "      <td>Rondônia</td>\n",
       "      <td>RO</td>\n",
       "      <td>Rondônia</td>\n",
       "      <td>19725009504</td>\n",
       "      <td>2289825239</td>\n",
       "      <td>17435184264</td>\n",
       "      <td>2116597096</td>\n",
       "      <td>3214988676</td>\n",
       "      <td>6890252624</td>\n",
       "      <td>5213345867</td>\n",
       "    </tr>\n",
       "    <tr>\n",
       "      <th>8</th>\n",
       "      <td>2010</td>\n",
       "      <td>11</td>\n",
       "      <td>RO</td>\n",
       "      <td>Rondônia</td>\n",
       "      <td>RO</td>\n",
       "      <td>Rondônia</td>\n",
       "      <td>23907886882</td>\n",
       "      <td>2950929036</td>\n",
       "      <td>20956957849</td>\n",
       "      <td>2295537137</td>\n",
       "      <td>4779253947</td>\n",
       "      <td>8011723773</td>\n",
       "      <td>5870442984</td>\n",
       "    </tr>\n",
       "    <tr>\n",
       "      <th>9</th>\n",
       "      <td>2011</td>\n",
       "      <td>11</td>\n",
       "      <td>RO</td>\n",
       "      <td>Rondônia</td>\n",
       "      <td>RO</td>\n",
       "      <td>Rondônia</td>\n",
       "      <td>27574714379</td>\n",
       "      <td>3382983866</td>\n",
       "      <td>24191730509</td>\n",
       "      <td>2510828777</td>\n",
       "      <td>5920619024</td>\n",
       "      <td>9255080227</td>\n",
       "      <td>6505202475</td>\n",
       "    </tr>\n",
       "  </tbody>\n",
       "</table>\n",
       "</div>"
      ],
      "text/plain": [
       "    ano id_uf id_uf_sigla id_uf_nome sigla_uf sigla_uf_nome          pib  \\\n",
       "0  2002    11          RO   Rondônia       RO      Rondônia   7467629886   \n",
       "1  2003    11          RO   Rondônia       RO      Rondônia   9425010486   \n",
       "2  2004    11          RO   Rondônia       RO      Rondônia  11004641436   \n",
       "3  2005    11          RO   Rondônia       RO      Rondônia  12511821181   \n",
       "4  2006    11          RO   Rondônia       RO      Rondônia  13054713344   \n",
       "5  2007    11          RO   Rondônia       RO      Rondônia  14438376499   \n",
       "6  2008    11          RO   Rondônia       RO      Rondônia  17285541726   \n",
       "7  2009    11          RO   Rondônia       RO      Rondônia  19725009504   \n",
       "8  2010    11          RO   Rondônia       RO      Rondônia  23907886882   \n",
       "9  2011    11          RO   Rondônia       RO      Rondônia  27574714379   \n",
       "\n",
       "   impostos_liquidos           va  va_agropecuaria  va_industria  va_servicos  \\\n",
       "0          839731192   6627898698        715526872    1191090432   2484579193   \n",
       "1         1108434936   8316575548       1278658831    1216605061   3376727040   \n",
       "2         1288806654   9715834778       1288515348    1674933817   3986529419   \n",
       "3         1476144194  11035676990       1342222120    1887932121   4603783904   \n",
       "4         1613809974  11440903374       1238006193    2210692147   4320526746   \n",
       "5         1766358842  12672017662       1431792087    2200048388   5107622177   \n",
       "6         2050713346  15234828376       2030130654    2463867818   6179992618   \n",
       "7         2289825239  17435184264       2116597096    3214988676   6890252624   \n",
       "8         2950929036  20956957849       2295537137    4779253947   8011723773   \n",
       "9         3382983866  24191730509       2510828777    5920619024   9255080227   \n",
       "\n",
       "   va_adespss  \n",
       "0  2236702207  \n",
       "1  2444584625  \n",
       "2  2765856199  \n",
       "3  3201738843  \n",
       "4  3671678293  \n",
       "5  3932554997  \n",
       "6  4560837285  \n",
       "7  5213345867  \n",
       "8  5870442984  \n",
       "9  6505202475  "
      ]
     },
     "execution_count": 74,
     "metadata": {},
     "output_type": "execute_result"
    }
   ],
   "source": [
    "df.head(10)"
   ]
  },
  {
   "cell_type": "markdown",
   "id": "462ee7ec",
   "metadata": {},
   "source": [
    "### Censo 2022 - Alfabetização por Sexo, Raça e Grupo de Idade"
   ]
  },
  {
   "cell_type": "code",
   "execution_count": 78,
   "id": "5bc063e6",
   "metadata": {},
   "outputs": [
    {
     "name": "stdout",
     "output_type": "stream",
     "text": [
      "Downloading: 100%|\u001b[32m██████████\u001b[0m|\n"
     ]
    }
   ],
   "source": [
    "query = \"\"\"\n",
    "  SELECT\n",
    "    dados.id_municipio AS id_municipio,\n",
    "    diretorio_id_municipio.nome AS id_municipio_nome,\n",
    "    dados.cor_raca as cor_raca,\n",
    "    dados.sexo as sexo,\n",
    "    dados.grupo_idade as grupo_idade,\n",
    "    dados.alfabetizacao as alfabetizacao,\n",
    "    dados.populacao as populacao\n",
    "FROM `basedosdados.br_ibge_censo_2022.alfabetizacao_grupo_idade_sexo_raca` AS dados\n",
    "LEFT JOIN (SELECT DISTINCT id_municipio,nome  FROM `basedosdados.br_bd_diretorios_brasil.municipio`) AS diretorio_id_municipio\n",
    "    ON dados.id_municipio = diretorio_id_municipio.id_municipio\n",
    "\"\"\"\n",
    "\n",
    "df = bd.read_sql(query = query, billing_project_id = GOOGLE_CLOUD_ID_PROJECT)\n",
    "df.to_csv(\"./csv/alfabetizacao_por_sexo,raca_e_idade.csv\")"
   ]
  },
  {
   "cell_type": "code",
   "execution_count": null,
   "id": "ec89825c",
   "metadata": {},
   "outputs": [],
   "source": [
    "df.head(10)"
   ]
  },
  {
   "cell_type": "markdown",
   "id": "bd2db6dd",
   "metadata": {},
   "source": []
  },
  {
   "cell_type": "markdown",
   "id": "1906752a",
   "metadata": {},
   "source": [
    "## Tratamento de Dados"
   ]
  },
  {
   "cell_type": "markdown",
   "id": "73ef2ad9",
   "metadata": {},
   "source": [
    "## Análise Exploratória"
   ]
  },
  {
   "cell_type": "markdown",
   "id": "c56ded33",
   "metadata": {},
   "source": [
    "## Insights obtidos"
   ]
  }
 ],
 "metadata": {
  "kernelspec": {
   "display_name": ".venv",
   "language": "python",
   "name": "python3"
  },
  "language_info": {
   "codemirror_mode": {
    "name": "ipython",
    "version": 3
   },
   "file_extension": ".py",
   "mimetype": "text/x-python",
   "name": "python",
   "nbconvert_exporter": "python",
   "pygments_lexer": "ipython3",
   "version": "3.13.1"
  }
 },
 "nbformat": 4,
 "nbformat_minor": 5
}
